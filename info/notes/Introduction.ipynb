{
 "cells": [
  {
   "cell_type": "markdown",
   "metadata": {},
   "source": [
    "# Introduction\n",
    "\n",
    "\n",
    "Life on Earth can most notably be described as diverse. The problems faced by life vary by ecosystem, but in general if you were to focus on a small patch of our planet, you would find an extraordinary number of different solutions to life within it. Each of these solutions are satisfactory - that is, they satisfy some *minimum criteria* in order for the characteristics of their solution to persist in future generations. Namely, staying alive long enough to reproduce.\n",
    "\n",
    "As a result, offspring of a particular solution inherit initial conditions specific to that of its parents, as well as the evolutionary trajectory of all of its ancestors. These offspring may have inherited the ability to learn during their own lifetime, which could in turn improve their ability to satisfy its minimum criteria. It is interesting that, from this perspective, the ability to learn *itself* is an inherited characteristic of a particular solution in time. \n",
    "\n",
    "Currently, the field of artificial intelligence is within its own trajectory of exploration through the space of possible models towards the goal of truly intelligent machines on par with biological nervous systems. This trajectory contains within it many approaches that have either been abandoned or mutated into the highly effective deep learning approaches we see today. \n",
    "\n",
    "These models themselves have components, namely the artificial neuron and shared-weights convolution, that are directly inspired by observations of how biological nervous systems function to solve similar tasks. \n",
    "\n",
    "\n"
   ]
  },
  {
   "cell_type": "code",
   "execution_count": null,
   "metadata": {
    "collapsed": true
   },
   "outputs": [],
   "source": []
  }
 ],
 "metadata": {
  "kernelspec": {
   "display_name": "Python 2",
   "language": "python",
   "name": "python2"
  },
  "language_info": {
   "codemirror_mode": {
    "name": "ipython",
    "version": 2
   },
   "file_extension": ".py",
   "mimetype": "text/x-python",
   "name": "python",
   "nbconvert_exporter": "python",
   "pygments_lexer": "ipython2",
   "version": "2.7.12"
  }
 },
 "nbformat": 4,
 "nbformat_minor": 2
}
