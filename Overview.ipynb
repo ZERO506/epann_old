{
 "cells": [
  {
   "cell_type": "markdown",
   "metadata": {},
   "source": [
    "# epann: Evolving Plastic Neural Networks\n",
    "\n",
    "\n",
    "Elan,\n",
    "\n",
    "Here is a step by step of how to work with some aspects of the package to instantiate CPPN genomes in response to your email. \n",
    "\n",
    "Let me know if anything remains unclear.\n",
    "\n",
    "Chad\n",
    "\n"
   ]
  },
  {
   "cell_type": "code",
   "execution_count": 301,
   "metadata": {},
   "outputs": [],
   "source": [
    "%matplotlib inline"
   ]
  },
  {
   "cell_type": "markdown",
   "metadata": {},
   "source": [
    "## Definition: \n",
    "\n",
    "**Compositional Pattern Producing Networks**\n",
    "\n",
    "***CPPN***s are an *abstraction of inheritance and development* constructed from simple artificial neural networks. \n",
    "\n",
    "Their goal is take in a possible connection in a final agent's brain as coordinates within a defined ***substrate***, and output some feature of that connection, such as it's weight and learning parameters. \n",
    "\n",
    "By representing an agent this way, it is not necessary to encode every connection in the final agent phenotype when performing evolutionary computation to find good solutions. \n",
    "\n",
    "Instead, we can *indirectly encode* agents with much smaller genotypes that describe the simple CPPN genome. An indirect encoding simplifies our representation of a solution, and allows us to search through a larger portion of the space of possible solutions to solve a task.\n",
    "    "
   ]
  },
  {
   "cell_type": "markdown",
   "metadata": {},
   "source": [
    "## Example\n",
    "\n",
    "Let's start with a simple example using the **epann** package. \n",
    "\n",
    "We will construct a population of 5 agents with very simple genome neural networks (CPPNs) to demonstrate how they are initialized, how their structure is related to the final agent brain, and how they change (mutation and reproduction) over the course of evolution. "
   ]
  },
  {
   "cell_type": "code",
   "execution_count": 302,
   "metadata": {},
   "outputs": [
    {
     "name": "stdout",
     "output_type": "stream",
     "text": [
      "Agent 0 - <epann.core.population.genome.cppn.CPPN instance at 0x7f8237d78e60>\n",
      "Agent 1 - <epann.core.population.genome.cppn.CPPN instance at 0x7f823dfde998>\n",
      "Agent 2 - <epann.core.population.genome.cppn.CPPN instance at 0x7f8235839d88>\n",
      "Agent 3 - <epann.core.population.genome.cppn.CPPN instance at 0x7f823e06f6c8>\n",
      "Agent 4 - <epann.core.population.genome.cppn.CPPN instance at 0x7f823df51cf8>\n"
     ]
    }
   ],
   "source": [
    "from epann.core.population.population import Population\n",
    "\n",
    "num_agents = 5\n",
    "\n",
    "pop = Population(num_agents)\n",
    "\n",
    "for agent in pop.genomes.keys():\n",
    "    print 'Agent', agent, '-', pop.genomes[agent]\n"
   ]
  },
  {
   "cell_type": "markdown",
   "metadata": {},
   "source": [
    "As you can see, each agent is defined as an instance of a CPPN object. Within this object are attributes that define its genotype, which can then be used to construct a phenotype for the agent. \n",
    "\n",
    "Let's set aside the first agent (**Agent 0**) and take a look at this genome."
   ]
  },
  {
   "cell_type": "code",
   "execution_count": 303,
   "metadata": {
    "collapsed": true
   },
   "outputs": [],
   "source": [
    "current_agent = pop.genomes[0]"
   ]
  },
  {
   "cell_type": "markdown",
   "metadata": {},
   "source": [
    "Most importantly for our discussion, the current agent has two sets of genome lists that can be modified over the course of evolution among its attributes. \n",
    "\n",
    "It has a *node genome*:"
   ]
  },
  {
   "cell_type": "code",
   "execution_count": 304,
   "metadata": {},
   "outputs": [
    {
     "name": "stdout",
     "output_type": "stream",
     "text": [
      "{0: {'activation': 'linear', 'type': 'input'}, 1: {'activation': 'linear', 'type': 'input'}, 2: {'activation': 'linear', 'type': 'input'}, 3: {'activation': 'linear', 'type': 'input'}, 4: {'activation': 'linear', 'type': 'input'}, 5: {'activation': 'ramp', 'type': 'output'}}\n"
     ]
    }
   ],
   "source": [
    "print current_agent.nodes"
   ]
  },
  {
   "cell_type": "markdown",
   "metadata": {},
   "source": [
    "It's *node genome* is a dictionary of genes that describe the characteristics of individual nodes in the CPPN.\n",
    "\n",
    "For example, **Node 5** is an output node ('type') with a unique activation function ('activation'). \n",
    "\n",
    "(**Note:** it might seem odd that an output node does not have a more traditional activation function, such as the *sigmoid*. Neurons in CPPNs can have a variety of activation functions that are selected for their ability to introduce repetition or symmetry, which gives rise to the network's *pattern producing* capabilities. More on this distinction later.) \n",
    "\n",
    "For now, we can at least observe the possible activation functions output nodes can be assigned to:"
   ]
  },
  {
   "cell_type": "code",
   "execution_count": 305,
   "metadata": {},
   "outputs": [
    {
     "name": "stdout",
     "output_type": "stream",
     "text": [
      "['x_cubed', 'linear', 'sigmoid', 'ramp', 'gauss', 'abs_value', 'tan_h', 'step', 'ReLU', 'sine']\n"
     ]
    }
   ],
   "source": [
    "from epann.core.tools.utils.activations import Activation\n",
    "acts = Activation()\n",
    "print acts.tags"
   ]
  },
  {
   "cell_type": "markdown",
   "metadata": {},
   "source": [
    "Nodes within the CPPN (except for the input nodes) can have any of these activation functions. For now, let's set the activation function to something simple. This will become clear why when we get to explaining the substrate, and we will change it back when we're done. Once you feel like you have gotten the hang of the relationship between the substrate and the CPPN genome, you can set the output node activation to any of the strings in the above list and see what the substrates look like (then just select Run All from the Cell pull down menu). \n",
    "\n",
    "Note: some values are not set up to be sampled with more than one input value (i.e. a meshgrid), so just play around with it a bit to see which ones are working properly. (for example, use 'step', not 'ReLU')\n"
   ]
  },
  {
   "cell_type": "code",
   "execution_count": 354,
   "metadata": {
    "collapsed": true
   },
   "outputs": [],
   "source": [
    "# Save the old randomly generated activation function\n",
    "old_output_act = current_agent.nodes[5]['activation']\n",
    "\n",
    "# Re-assign the output node activation function\n",
    "current_agent.nodes[5]['activation'] = 'step'"
   ]
  },
  {
   "cell_type": "markdown",
   "metadata": {},
   "source": [
    "We start a generation off with 5 agents that have the same number of input and output nodes. As a result, every agent will have identical *node genomes* when they are intialized, save the specific activation functions assigned to the output nodes. "
   ]
  },
  {
   "cell_type": "code",
   "execution_count": 355,
   "metadata": {},
   "outputs": [
    {
     "name": "stdout",
     "output_type": "stream",
     "text": [
      "\n",
      "Input nodes are equivalent across the population when initialized...\n",
      "\n",
      "- Agent 0\n",
      "    Node 0 : {'activation': 'linear', 'type': 'input'}\n",
      "    Node 1 : {'activation': 'linear', 'type': 'input'}\n",
      "    Node 2 : {'activation': 'linear', 'type': 'input'}\n",
      "    Node 3 : {'activation': 'linear', 'type': 'input'}\n",
      "    Node 4 : {'activation': 'linear', 'type': 'input'}\n",
      "- Agent 1\n",
      "    Node 0 : {'activation': 'linear', 'type': 'input'}\n",
      "    Node 1 : {'activation': 'linear', 'type': 'input'}\n",
      "    Node 2 : {'activation': 'linear', 'type': 'input'}\n",
      "    Node 3 : {'activation': 'linear', 'type': 'input'}\n",
      "    Node 4 : {'activation': 'linear', 'type': 'input'}\n",
      "- Agent 2\n",
      "    Node 0 : {'activation': 'linear', 'type': 'input'}\n",
      "    Node 1 : {'activation': 'linear', 'type': 'input'}\n",
      "    Node 2 : {'activation': 'linear', 'type': 'input'}\n",
      "    Node 3 : {'activation': 'linear', 'type': 'input'}\n",
      "    Node 4 : {'activation': 'linear', 'type': 'input'}\n",
      "- Agent 3\n",
      "    Node 0 : {'activation': 'linear', 'type': 'input'}\n",
      "    Node 1 : {'activation': 'linear', 'type': 'input'}\n",
      "    Node 2 : {'activation': 'linear', 'type': 'input'}\n",
      "    Node 3 : {'activation': 'linear', 'type': 'input'}\n",
      "    Node 4 : {'activation': 'linear', 'type': 'input'}\n",
      "- Agent 4\n",
      "    Node 0 : {'activation': 'linear', 'type': 'input'}\n",
      "    Node 1 : {'activation': 'linear', 'type': 'input'}\n",
      "    Node 2 : {'activation': 'linear', 'type': 'input'}\n",
      "    Node 3 : {'activation': 'linear', 'type': 'input'}\n",
      "    Node 4 : {'activation': 'linear', 'type': 'input'}\n",
      "\n",
      "While output nodes differ in their specific activation functions...\n",
      "\n",
      "- Agent 0\n",
      "    Node 5 : {'activation': 'step', 'type': 'output'}\n",
      "- Agent 1\n",
      "    Node 5 : {'activation': 'sine', 'type': 'output'}\n",
      "- Agent 2\n",
      "    Node 5 : {'activation': 'sigmoid', 'type': 'output'}\n",
      "- Agent 3\n",
      "    Node 5 : {'activation': 'ramp', 'type': 'output'}\n",
      "- Agent 4\n",
      "    Node 5 : {'activation': 'x_cubed', 'type': 'output'}\n"
     ]
    }
   ],
   "source": [
    "# Input nodes\n",
    "print '\\nInput nodes are equivalent across the population when initialized...\\n'\n",
    "for agent in range(num_agents):\n",
    "    print '- Agent', agent\n",
    "    for node in range(5):\n",
    "        print '    Node', node, ':', pop.genomes[agent].nodes[node]\n",
    "        \n",
    "# Output nodes\n",
    "print '\\nWhile output nodes differ in their specific activation functions...\\n'\n",
    "for agent in range(num_agents):\n",
    "    print '- Agent', agent\n",
    "    print '    Node', 5, ':', pop.genomes[agent].nodes[5]"
   ]
  },
  {
   "cell_type": "markdown",
   "metadata": {},
   "source": [
    "The CPPN also has a *connection genome* that keeps track of the connections between these nodes:"
   ]
  },
  {
   "cell_type": "code",
   "execution_count": 356,
   "metadata": {},
   "outputs": [
    {
     "name": "stdout",
     "output_type": "stream",
     "text": [
      "{0: {'enable_bit': 1, 'in_node': 5, 'weight': -0.6694964313532505, 'out_node': 0}, 1: {'enable_bit': 1, 'in_node': 5, 'weight': 1.82539028004255, 'out_node': 1}, 2: {'enable_bit': 1, 'in_node': 5, 'weight': 0.8763862342734189, 'out_node': 2}, 3: {'enable_bit': 1, 'in_node': 5, 'weight': 1.2931369895594522, 'out_node': 3}, 4: {'enable_bit': 1, 'in_node': 5, 'weight': 0.802118384963248, 'out_node': 4}}\n"
     ]
    }
   ],
   "source": [
    "print current_agent.connections"
   ]
  },
  {
   "cell_type": "markdown",
   "metadata": {},
   "source": [
    "Just like any neural network you are accustomed to seeing, a CPPN is composed of an input layer (**Nodes 0-4**) and an output layer (with a single output node, **Node 5**). \n",
    "\n",
    "Each agent begins with 6 total nodes which are *fully connected*, making 5 initial weights. Although agents in the population are *structurally identical* (they have the same number of initial nodes in their CPPN), the weights of these connections will not be the same for each agent.\n",
    "\n",
    "Let's compare a single connection across the population - **Connection 0**, between **Node 0** and **Node 5** to show this fact:\n",
    "\n"
   ]
  },
  {
   "cell_type": "code",
   "execution_count": 357,
   "metadata": {},
   "outputs": [
    {
     "name": "stdout",
     "output_type": "stream",
     "text": [
      "Connection weights are randomly initialized across the population for the same connection...\n",
      "\n",
      "- Agent 0\n",
      "    Connection 0 : {'enable_bit': 1, 'in_node': 5, 'weight': -0.6694964313532505, 'out_node': 0}\n",
      "- Agent 1\n",
      "    Connection 0 : {'enable_bit': 1, 'in_node': 5, 'weight': 0.014733169930874333, 'out_node': 0}\n",
      "- Agent 2\n",
      "    Connection 0 : {'enable_bit': 1, 'in_node': 5, 'weight': 1.1183923189249478, 'out_node': 0}\n",
      "- Agent 3\n",
      "    Connection 0 : {'enable_bit': 1, 'in_node': 5, 'weight': -0.05951662805764614, 'out_node': 0}\n",
      "- Agent 4\n",
      "    Connection 0 : {'enable_bit': 1, 'in_node': 5, 'weight': -1.2581991745370176, 'out_node': 0}\n"
     ]
    }
   ],
   "source": [
    "print 'Connection weights are randomly initialized across the population for the same connection...\\n'\n",
    "for agent in range(num_agents):\n",
    "    print '- Agent', agent\n",
    "    print '    Connection', 0, ':', pop.genomes[agent].connections[0]"
   ]
  },
  {
   "cell_type": "markdown",
   "metadata": {},
   "source": [
    "Now, the connection genome is really where the meat of the Hyper-NEAT algorithm lies, so let's focus on it a little more. \n",
    "\n",
    "Here is what this CPPN genome looks like graphically:\n",
    "\n",
    "### Figure 1. Initialized CPPN genome\n",
    "\n",
    "![Figure 1](epann/figures/init_cppn.png)"
   ]
  },
  {
   "cell_type": "markdown",
   "metadata": {},
   "source": [
    "Each of the nodes have an identification number specific to its node genome (node IDs are written in white). \n",
    "\n",
    "Connections also have identification numbers, which we will refer to as *innovation numbers* (innovation numbers written along connections in black). \n",
    "\n",
    "This example CPPN is an agent's *genome*. Since neural networks act as function-approximators, an agent's genome is in effect, also a function. In this case, the genome is a function that maps connections in the agent's final brain to the strength of those connections (the weight). \n",
    "\n",
    "I will go into some more detail below describing how this is done, but for now it is important to remember that the genome of an agent is a function represented as an artificial neural network. That genome neural network will be used to construct the agent's brain, which is also a neural network. \n",
    "\n",
    "In an attempt to ensure that these two neural networks are not confused, CPPN nodes (the genotype) are drawn in blue. CPPN nodes have identification numbers written in white, and connections between nodes have innovation numbers written in black. Agent neural networks (their \"brains\"), do not have identification numbers for their nodes or connections (they have coordinates, described below). Furthermore, their nodes are drawn in red or orange.\n",
    "\n",
    "Let's look at the first connection (**Connection 0**; innovation number = 0) in this **Agent 0**'s connection genome."
   ]
  },
  {
   "cell_type": "code",
   "execution_count": 358,
   "metadata": {},
   "outputs": [
    {
     "name": "stdout",
     "output_type": "stream",
     "text": [
      "0 - {'enable_bit': 1, 'in_node': 5, 'weight': -0.6694964313532505, 'out_node': 0}\n"
     ]
    }
   ],
   "source": [
    "print 0, '-', current_agent.connections[0]"
   ]
  },
  {
   "cell_type": "markdown",
   "metadata": {},
   "source": [
    "As we can verify in **Figure 1** (innovation # label 0), **Connection 0** describes a connection between **Node 0** and **Node 5**. \n",
    "\n",
    "These landing points are intuitively labeled within the gene above: **Connection 0** goes *out* from **Node 0**, so it is labelled the 'out_node' of that connection. **Connection 0** terminates *into* **Node 5**, and is thereby **Connection 0**'s 'in_node'. \n",
    "\n",
    "You can go over the connection genome for **Agent 0** to verify that the rest of the connections share this convention.\n",
    "\n"
   ]
  },
  {
   "cell_type": "code",
   "execution_count": 359,
   "metadata": {},
   "outputs": [
    {
     "name": "stdout",
     "output_type": "stream",
     "text": [
      "(innovation # / connection#) : 0 - {'enable_bit': 1, 'in_node': 5, 'weight': -0.6694964313532505, 'out_node': 0}\n",
      "(innovation # / connection#) : 1 - {'enable_bit': 1, 'in_node': 5, 'weight': 1.82539028004255, 'out_node': 1}\n",
      "(innovation # / connection#) : 2 - {'enable_bit': 1, 'in_node': 5, 'weight': 0.8763862342734189, 'out_node': 2}\n",
      "(innovation # / connection#) : 3 - {'enable_bit': 1, 'in_node': 5, 'weight': 1.2931369895594522, 'out_node': 3}\n",
      "(innovation # / connection#) : 4 - {'enable_bit': 1, 'in_node': 5, 'weight': 0.802118384963248, 'out_node': 4}\n"
     ]
    }
   ],
   "source": [
    "for connection in current_agent.connections.keys():\n",
    "    print '(innovation # / connection#) :', connection, '-', current_agent.connections[connection]"
   ]
  },
  {
   "cell_type": "markdown",
   "metadata": {},
   "source": [
    "Each connection has a weight labeled by the key 'weight'. This value is randomly generated for each agent and connection in every experiment. \n",
    "\n",
    "A label which may seem out of place is the 'enable_bit'. In our genetic algorithm (Hyper-NEAT), mutations will cause the topology of this CPPN to change over time. **Connection 0** (which goes from **Node 0** to **Node 5**) could be replaced by other connections that connect it to different nodes. If this occures, then the connection will no longer be expressed. \n",
    "\n",
    "It will become clear once we get deeper into the mutations that can happen to a genome how labelling connections with *innovation numbers* becomes useful in experiments, but basically these labels allow us to compare the evolutionary histories of a particular agent during the reproduction stages of our genetic algorithm. \n",
    "\n",
    "We can line up innovation numbers between two parents, and have some confidence that they share similar histories of mutations if their innovation numbers are similar. \n",
    "\n",
    "Because we would like to be able to compare agents to one another this way, it would not be advantageous to, for example, delete a mutation entirely from a genome. Instead, we can *flip the enable_bit* gene in a genome, that is reassign the 'enable_bit' attribute for a connection to 0. Doing this turns off this connection from being expressed in the genome without deleting it entirely. \n",
    "\n",
    "Perhaps this is a lot to cover without seeing a more concrete example, so lets take a moment to break a part the relationship between a CPPN genome and the final agent neural network phenotype that we want to construct and evaluate on a task."
   ]
  },
  {
   "cell_type": "markdown",
   "metadata": {},
   "source": [
    "## The Substrate\n",
    "\n",
    "An important starting point when thinking about our CPPN abstraction is that we are going to treat our final agent neural network, the brain that will actually be interacting with and learning from the task we are interested in, as something that exists in a two-dimensional space. As a consequence, individual nodes in that network can be defined with locations within that space. \n",
    "\n",
    "### A simple task\n",
    "\n",
    "A very simple task that we might be interested in having our agents solve is one modified off the game Flappy Bird. (a single frame from this task is shown below in **Figure 2**)\n",
    "\n",
    "An agent remains stationary in a column of a grid world, while the world continues to fly by it, updating the values of columns with each time step. The agent in **Figure 2** below is black, nutrients in the world are green, and blue pixels indicate the agent's field of view (what the organism can actually see around it).\n",
    "\n",
    "While the agent always remains in the same column, it can execute one of three actions at any time based on what it sees in the environment to change its row. It can stay in its current row, or it can move upwards or downwards one row. \n",
    "\n",
    "We would like to find agents who can feed themselves - that is, organisms that can observe nutrient locations and execute the appropriate actions to pass through those pixels and ingest them. (One potential objective is to find agent's who eat the most nutrients in a given trial)\n",
    "\n",
    "\n",
    "If we designed a neural network for this controller, it would require at least six input nodes (one for each of the pixels in its field of view) and three output nodes (one for each of the potential actions). \n",
    "\n"
   ]
  },
  {
   "cell_type": "markdown",
   "metadata": {},
   "source": [
    "### Figure 2. Example Control task\n",
    "\n",
    "\n",
    "![Figure 1](epann/figures/agent.png)"
   ]
  },
  {
   "cell_type": "markdown",
   "metadata": {},
   "source": [
    "### The substrate\n",
    "\n",
    "Now that we have chosen a simple task for our agents, let's return to defining a ***substrate***, which defines nodes in our agent's brain as having locations in a two-dimensional space. Let's take a moment and visualize the nodes we know our agent must contain (6 input nodes and 3 output nodes) in this space:\n",
    "\n",
    "### Figure 3. Substrate Coordinate Space\n",
    "\n",
    "![Figure 3](epann/figures/substrate1.png)"
   ]
  },
  {
   "cell_type": "markdown",
   "metadata": {},
   "source": [
    "Remember, this space and the neural network it contains is different than the Compositional Pattern Producing Network (CPPN) genome shown before. CPPNs do not live in this space - it is a space where we can assign locations to nodes in our agent's \"brain\". Nodes in this network are drawn in red to further distinguish them from the CPPN (which were drawn in blue). Like any other controller neural network, an observation from the environment is used as these input nodes, and it outputs a selected action.\n",
    "\n",
    "In **Figure 3**, we can see our 6 input nodes are aligned across the bottom and our 3 output nodes are likewise aligned across the top. \n",
    "\n",
    "The space itself is continuous between -1 and 1 in both $x$ and $y$. ( $ x, y \\in [-1, 1] $ )\n",
    "\n",
    "From this perspective, *input nodes* can be defined with coordinates that describe their *location* along the bottom edge of this space: $(x, -1)$. If we assume that these nodes are evenly spaced along the edge, we can initialize their locations as:"
   ]
  },
  {
   "cell_type": "code",
   "execution_count": 360,
   "metadata": {},
   "outputs": [
    {
     "name": "stdout",
     "output_type": "stream",
     "text": [
      "[[-1.0, -1.0], [-0.59999999999999998, -1.0], [-0.19999999999999996, -1.0], [0.20000000000000018, -1.0], [0.60000000000000009, -1.0], [1.0, -1.0]]\n"
     ]
    }
   ],
   "source": [
    "import numpy as np\n",
    "\n",
    "input_locations = [ [x, -1.0] for x in np.linspace(-1, 1, 6) ]\n",
    "print input_locations"
   ]
  },
  {
   "cell_type": "markdown",
   "metadata": {},
   "source": [
    "Similarly, the three output nodes exist along the top edge of the substrate: $(x, +1)$."
   ]
  },
  {
   "cell_type": "code",
   "execution_count": 361,
   "metadata": {},
   "outputs": [
    {
     "name": "stdout",
     "output_type": "stream",
     "text": [
      "[[-1.0, 1.0], [0.0, 1.0], [1.0, 1.0]]\n"
     ]
    }
   ],
   "source": [
    "output_locations = [ [ x, 1.0 ] for x in np.linspace(-1, 1, 3) ]\n",
    "print output_locations"
   ]
  },
  {
   "cell_type": "markdown",
   "metadata": {},
   "source": [
    "Now, the purpose of our CPPN genome is to allow us to more compactly represent an agent's 'brain' as an indirect encoding. The way we have chosen to implement this mapping from genotype to phenotype involves sampling a possible connection between two nodes in the *agent's brain* and feeding it through the CPPN genome function as input. In return, we receive the weight between those two nodes. \n",
    "\n",
    "Placing nodes into this substrate space allows us to represent individual nodes in this connection with coordinates, as described above. So let's try a connection given our current initialized CPPN for **Agent 0**. (See visualization on the substrate in **Figure 4**)\n",
    "\n",
    "\n",
    "\n",
    "\n",
    "### Figure 4: A sample connection on the substrate between an input and output node\n",
    "\n",
    "![Figure 4](epann/figures/substrate1_connect0.png)\n",
    "\n",
    "The first input node is located at $[-1.0, -1.0]$, and we are going to determine the weight between it and the first output node, which is located at $[-1.0, 1.0]$ by feeding this connection into our CPPN genome function. \n",
    "\n",
    "If we look again at **Figure 1**, we can see that we replace our inputs to the CPPN:\n",
    "\n",
    "$$ (x_1, y_1, x_2, y_2) = (-1.0, -1.0, -1.0, 1.0) $$\n",
    "\n",
    "If we evaluate our initialized CPPN genome for this connection, we receive the weight of this connection as output.\n"
   ]
  },
  {
   "cell_type": "code",
   "execution_count": 362,
   "metadata": {},
   "outputs": [
    {
     "name": "stdout",
     "output_type": "stream",
     "text": [
      "- From input node [-1.0, -1.0] to output node [-1.0, 1.0] :\n",
      "    * weight =  1.0\n"
     ]
    }
   ],
   "source": [
    "from cppn_overview import InitializedAgent\n",
    "\n",
    "agent = InitializedAgent(current_agent)\n",
    "\n",
    "# Define the current connection\n",
    "connection_start = input_locations[0]\n",
    "connection_end = output_locations[0]\n",
    "\n",
    "# Evaluate the connection\n",
    "print '- From input node', connection_start, 'to output node', connection_end, ':'\n",
    "print '    * weight = ', agent.evaluate(connection_start, connection_end)\n",
    "\n"
   ]
  },
  {
   "cell_type": "markdown",
   "metadata": {},
   "source": [
    "If we revisit **Figure 1**, we can see that this output value describes the weight of the connection we are sampling between the input node and the output node. \n",
    "\n",
    "We can sample again across all of our input nodes to evaluate the weights to each output node."
   ]
  },
  {
   "cell_type": "code",
   "execution_count": 363,
   "metadata": {},
   "outputs": [
    {
     "name": "stdout",
     "output_type": "stream",
     "text": [
      "\n",
      "From input node [-1.0, -1.0]\n",
      "   - to output node [-1.0, 1.0] :\n",
      "      * weight =  1.0\n",
      "   - to output node [0.0, 1.0] :\n",
      "      * weight =  1.0\n",
      "   - to output node [1.0, 1.0] :\n",
      "      * weight =  1.0\n",
      "\n",
      "From input node [-0.59999999999999998, -1.0]\n",
      "   - to output node [-1.0, 1.0] :\n",
      "      * weight =  -1.0\n",
      "   - to output node [0.0, 1.0] :\n",
      "      * weight =  1.0\n",
      "   - to output node [1.0, 1.0] :\n",
      "      * weight =  1.0\n",
      "\n",
      "From input node [-0.19999999999999996, -1.0]\n",
      "   - to output node [-1.0, 1.0] :\n",
      "      * weight =  -1.0\n",
      "   - to output node [0.0, 1.0] :\n",
      "      * weight =  1.0\n",
      "   - to output node [1.0, 1.0] :\n",
      "      * weight =  1.0\n",
      "\n",
      "From input node [0.20000000000000018, -1.0]\n",
      "   - to output node [-1.0, 1.0] :\n",
      "      * weight =  -1.0\n",
      "   - to output node [0.0, 1.0] :\n",
      "      * weight =  1.0\n",
      "   - to output node [1.0, 1.0] :\n",
      "      * weight =  1.0\n",
      "\n",
      "From input node [0.60000000000000009, -1.0]\n",
      "   - to output node [-1.0, 1.0] :\n",
      "      * weight =  -1.0\n",
      "   - to output node [0.0, 1.0] :\n",
      "      * weight =  -1.0\n",
      "   - to output node [1.0, 1.0] :\n",
      "      * weight =  1.0\n",
      "\n",
      "From input node [1.0, -1.0]\n",
      "   - to output node [-1.0, 1.0] :\n",
      "      * weight =  -1.0\n",
      "   - to output node [0.0, 1.0] :\n",
      "      * weight =  -1.0\n",
      "   - to output node [1.0, 1.0] :\n",
      "      * weight =  1.0\n"
     ]
    }
   ],
   "source": [
    "for start in input_locations:\n",
    "    \n",
    "    print '\\nFrom input node', start\n",
    "    \n",
    "    for end in output_locations:\n",
    "    \n",
    "        weight = agent.evaluate(start, end)\n",
    "        print '   - to output node', end, ':'\n",
    "        print '      * weight = ', weight"
   ]
  },
  {
   "cell_type": "markdown",
   "metadata": {},
   "source": [
    "Each value that is returned describes the weight of the connection from one node to another within the substrate according to the CPPN function genome that is initialized. \n",
    "\n",
    "Later on in evolution, mutations will change this function in ways that will influence the strength of these connections and fundamentally change the type of agent brain we inherit. \n",
    "\n",
    "It is customary to set some minimum weight threshold $w_t$, such that the absolute value of a weight must be greater than some value. Those weights that are less than the threshold are not expressed in the agent's final phenotype. (for each connection, if $|w| < w_t $, $ w \\gets 0 $ )"
   ]
  },
  {
   "cell_type": "markdown",
   "metadata": {},
   "source": [
    "### Hidden nodes\n",
    "\n",
    "We have shown that a CPPN genome can map a connection to its weight by defining nodes as having coordinates within a two-dimensional substrate for a Flappy Bird-like feeding task. \n",
    "\n",
    "If we only sample these possible connections, we will generate an agent phenotype of a fully-connected artificial neural network with 6 input nodes and 3 output nodes (minus those connections that are not expressed, $|w| < w_t$ ).\n",
    "\n",
    "It may be the case that for certain tasks a neural network with no hidden nodes is sufficient to solve it, however there are plenty of tasks where layers of hidden nodes could be essential in accomplishing the task toward some objective performance measure.\n",
    "\n",
    "Since CPPNs represent continuous mappings across the entire substrate, nodes can exist at *any* location within it, not just along the top and bottom edges. \n",
    "\n",
    "There are a number of ways we can selectively sample possible hidden node locations in the substrate with respect to a given CPPN, but let's start with a simple sampling scheme that is independent of the genome itself: an evenly spaced 5 x 5 resolution grid across the substrate between input and output nodes. **Figure 5** shows what this substrate sampling looks like.\n",
    "\n",
    "## Figure 5. 5 x 5 resolution hidden node sampling\n",
    "\n",
    "![Figure 5](epann/figures/substrate1_5by5.png)\n",
    "\n",
    "Once again, our minimal architecture (inputs and outputs) is in red. Now, however, we have 25 possible hidden node locations within the substrate. We would like to determine if they would provide useful additional information for our agent genome and should be expressed in our agent phenotype network.\n",
    "\n",
    "Don't worry if our selection of these 25 hidden node locations seems arbitrary right now, because in many ways it is. The substrate is a continuous two-dimensional space, so we could have just as easily only sampled the origin (0,0) or chosen 1000 possible hidden node locations (100x100 resolution). The only difference between these two decisions of hidden node density is that if there is a lot of variation in the CPPN function (weight values vary over the possible hidden node locations from a single starting node), only sampling the origin will not describe that variation. This possible hidden node density is chosen to illustrate that a more effective hidden node sampling can be found by tying the nodes we evaluate to the function they are evaluating from - the CPPN. But we'll get there.\n",
    "\n",
    "We can once again describe the coordinate locations of these possible hidden nodes as evenly spaced within the substrate:"
   ]
  },
  {
   "cell_type": "code",
   "execution_count": 364,
   "metadata": {},
   "outputs": [],
   "source": [
    "resX, resY = 5, 5\n",
    "\n",
    "x = np.linspace(-1, 1, resX)\n",
    "y = np.linspace(-1, 1, resY)\n",
    "\n",
    "xv, yv = np.meshgrid(x, y)"
   ]
  },
  {
   "cell_type": "markdown",
   "metadata": {
    "collapsed": true
   },
   "source": [
    "And then sample the strength of the connection (evaluate weight) between the each input node and each hidden node:"
   ]
  },
  {
   "cell_type": "code",
   "execution_count": 365,
   "metadata": {},
   "outputs": [
    {
     "name": "stdout",
     "output_type": "stream",
     "text": [
      "\n",
      "From  [-1.0, -1.0]\n",
      "[[-1. -1. -1. -1. -1.]\n",
      " [-1. -1. -1. -1. -1.]\n",
      " [-1. -1. -1.  1.  1.]\n",
      " [-1. -1.  1.  1.  1.]\n",
      " [ 1.  1.  1.  1.  1.]]\n",
      "\n",
      "From  [-0.59999999999999998, -1.0]\n",
      "[[-1. -1. -1. -1. -1.]\n",
      " [-1. -1. -1. -1. -1.]\n",
      " [-1. -1. -1. -1.  1.]\n",
      " [-1. -1.  1.  1.  1.]\n",
      " [-1.  1.  1.  1.  1.]]\n",
      "\n",
      "From  [-0.19999999999999996, -1.0]\n",
      "[[-1. -1. -1. -1. -1.]\n",
      " [-1. -1. -1. -1. -1.]\n",
      " [-1. -1. -1. -1. -1.]\n",
      " [-1. -1. -1.  1.  1.]\n",
      " [-1. -1.  1.  1.  1.]]\n",
      "\n",
      "From  [0.20000000000000018, -1.0]\n",
      "[[-1. -1. -1. -1. -1.]\n",
      " [-1. -1. -1. -1. -1.]\n",
      " [-1. -1. -1. -1. -1.]\n",
      " [-1. -1. -1. -1.  1.]\n",
      " [-1. -1.  1.  1.  1.]]\n",
      "\n",
      "From  [0.60000000000000009, -1.0]\n",
      "[[-1. -1. -1. -1. -1.]\n",
      " [-1. -1. -1. -1. -1.]\n",
      " [-1. -1. -1. -1. -1.]\n",
      " [-1. -1. -1. -1.  1.]\n",
      " [-1. -1. -1.  1.  1.]]\n",
      "\n",
      "From  [1.0, -1.0]\n",
      "[[-1. -1. -1. -1. -1.]\n",
      " [-1. -1. -1. -1. -1.]\n",
      " [-1. -1. -1. -1. -1.]\n",
      " [-1. -1. -1. -1. -1.]\n",
      " [-1. -1. -1.  1.  1.]]\n"
     ]
    },
    {
     "data": {
      "image/png": "[encoded data removed]",
      "text/plain": [
       "<matplotlib.figure.Figure at 0x7f82350a08d0>"
      ]
     },
     "metadata": {},
     "output_type": "display_data"
    }
   ],
   "source": [
    "count = 1\n",
    "for start in input_locations:\n",
    "    print '\\nFrom ', start \n",
    "    weights = agent.evaluate(start, [xv, yv])\n",
    "    print weights\n",
    "    \n",
    "    start_label = [ round(value, 2) for value in start]\n",
    "    \n",
    "    plt.subplot(2,3,count)\n",
    "    plt.imshow(weights)\n",
    "    plt.title(str(start_label))\n",
    "    plt.axis('off')\n",
    "    \n",
    "    count += 1\n",
    "    \n",
    "plt.show()"
   ]
  },
  {
   "cell_type": "markdown",
   "metadata": {},
   "source": [
    "We can similarly test the weight of connections that pass from every hidden node to every output node:"
   ]
  },
  {
   "cell_type": "code",
   "execution_count": 366,
   "metadata": {},
   "outputs": [
    {
     "name": "stdout",
     "output_type": "stream",
     "text": [
      "\n",
      "To  [-1.0, 1.0]\n",
      "[[ 1. -1. -1. -1. -1.]\n",
      " [ 1.  1.  1. -1. -1.]\n",
      " [ 1.  1.  1.  1.  1.]\n",
      " [ 1.  1.  1.  1.  1.]\n",
      " [ 1.  1.  1.  1.  1.]]\n",
      "\n",
      "To  [0.0, 1.0]\n",
      "[[ 1.  1.  1. -1. -1.]\n",
      " [ 1.  1.  1.  1.  1.]\n",
      " [ 1.  1.  1.  1.  1.]\n",
      " [ 1.  1.  1.  1.  1.]\n",
      " [ 1.  1.  1.  1.  1.]]\n",
      "\n",
      "To  [1.0, 1.0]\n",
      "[[ 1.  1.  1.  1.  1.]\n",
      " [ 1.  1.  1.  1.  1.]\n",
      " [ 1.  1.  1.  1.  1.]\n",
      " [ 1.  1.  1.  1.  1.]\n",
      " [ 1.  1.  1.  1.  1.]]\n"
     ]
    },
    {
     "data": {
      "image/png": "[encoded data removed]",
      "text/plain": [
       "<matplotlib.figure.Figure at 0x7f823509f250>"
      ]
     },
     "metadata": {},
     "output_type": "display_data"
    }
   ],
   "source": [
    "count = 1\n",
    "\n",
    "for end in output_locations:\n",
    "    print '\\nTo ', end \n",
    "    weights = agent.evaluate([xv, yv], end)\n",
    "    print weights\n",
    "    \n",
    "    end_label = [ round(value, 2) for value in end]\n",
    "    \n",
    "    plt.subplot(2,3,count)\n",
    "    plt.imshow(weights)\n",
    "    plt.title(str(end_label))\n",
    "    plt.axis('off')\n",
    "    \n",
    "    count += 1\n",
    "    \n",
    "plt.show()"
   ]
  },
  {
   "cell_type": "markdown",
   "metadata": {},
   "source": [
    "This process is recursive, and the same set of evaluations need to be executed for connections between every hidden node to every other hidden node in the given 5 x 5 substrate resolution.\n",
    "\n",
    "### Break - substrate wrt CPPNs\n",
    "\n",
    "Let's take a moment to set aside the idea that we are arbitrarily designating a resolution by which we are sampling hidden node locations (and therefore possible connections) and look at all possible connection evaluations from each of the input nodes (at a higher resolution of 1000 x 1000 -> 1,000,000 sampled hidden nodes)."
   ]
  },
  {
   "cell_type": "code",
   "execution_count": 367,
   "metadata": {},
   "outputs": [
    {
     "data": {
      "image/png": "[encoded data removed]",
      "text/plain": [
       "<matplotlib.figure.Figure at 0x7f82353cd490>"
      ]
     },
     "metadata": {},
     "output_type": "display_data"
    }
   ],
   "source": [
    "import matplotlib.pyplot as plt\n",
    "\n",
    "resX, resY = 1000, 1000\n",
    "\n",
    "x = np.linspace(-1, 1, resX)\n",
    "y = np.linspace(-1, 1, resY)\n",
    "\n",
    "xv, yv = np.meshgrid(x, y)\n",
    "\n",
    "for node in range(len(input_locations)):\n",
    "\n",
    "    start = input_locations[node]\n",
    "    weights = agent.evaluate(start, [xv, yv])\n",
    "    \n",
    "    start_label = [ round(value, 2) for value in start]\n",
    "\n",
    "    plt.subplot(2,3, (node+1))\n",
    "    plt.imshow(weights)\n",
    "    plt.title(str(start_label))\n",
    "    plt.axis('off')\n",
    "    \n",
    "plt.show()"
   ]
  },
  {
   "cell_type": "markdown",
   "metadata": {},
   "source": [
    "As well as the substrate evaluation values for all possible connections coming into the ouput nodes."
   ]
  },
  {
   "cell_type": "code",
   "execution_count": 368,
   "metadata": {},
   "outputs": [
    {
     "data": {
      "image/png": "[encoded data removed]",
      "text/plain": [
       "<matplotlib.figure.Figure at 0x7f8237f24390>"
      ]
     },
     "metadata": {},
     "output_type": "display_data"
    }
   ],
   "source": [
    "for node in range(len(output_locations)):\n",
    "\n",
    "    end = output_locations[node]\n",
    "    weights = agent.evaluate([xv, yv], end)\n",
    "    \n",
    "    end_label = [ round(value, 2) for value in end]\n",
    "\n",
    "    plt.subplot(1,3, (node+1))\n",
    "    plt.imshow(weights)\n",
    "    plt.title(str(end_label))\n",
    "    plt.axis('off')\n",
    "    \n",
    "plt.show()"
   ]
  },
  {
   "cell_type": "markdown",
   "metadata": {},
   "source": [
    "And for the fun of it, let's look at what connections that start and some random hidden node locations look like."
   ]
  },
  {
   "cell_type": "code",
   "execution_count": 369,
   "metadata": {},
   "outputs": [
    {
     "data": {
      "image/png": "[encoded data removed]",
      "text/plain": [
       "<matplotlib.figure.Figure at 0x7f8237c0c190>"
      ]
     },
     "metadata": {},
     "output_type": "display_data"
    }
   ],
   "source": [
    "num_random_hiddens = 4\n",
    "\n",
    "hidden_locations = [ np.random.uniform(-1, 1, size=[1,2]) for location in range(num_random_hiddens)]\n",
    "\n",
    "for node in range(len(hidden_locations)):\n",
    "\n",
    "    start = hidden_locations[node][0]\n",
    "    start = [ start[0], start[1] ]\n",
    "    \n",
    "    weights = agent.evaluate(start, [xv, yv])\n",
    "        \n",
    "    start_label = [ round(value, 2) for value in start]\n",
    "\n",
    "    plt.subplot(2,2, (node+1))\n",
    "    plt.imshow(weights)\n",
    "    plt.title(str(start_label))\n",
    "    plt.axis('off')\n",
    "    \n",
    "plt.show()"
   ]
  },
  {
   "cell_type": "code",
   "execution_count": null,
   "metadata": {
    "collapsed": true
   },
   "outputs": [],
   "source": []
  },
  {
   "cell_type": "code",
   "execution_count": null,
   "metadata": {
    "collapsed": true
   },
   "outputs": [],
   "source": []
  },
  {
   "cell_type": "code",
   "execution_count": null,
   "metadata": {
    "collapsed": true
   },
   "outputs": [],
   "source": []
  },
  {
   "cell_type": "code",
   "execution_count": null,
   "metadata": {
    "collapsed": true
   },
   "outputs": [],
   "source": []
  },
  {
   "cell_type": "code",
   "execution_count": null,
   "metadata": {
    "collapsed": true
   },
   "outputs": [],
   "source": []
  },
  {
   "cell_type": "markdown",
   "metadata": {},
   "source": [
    "\n",
    "Each agent is initialized with a simple neural network that represents its genome. Hyper-NEAT, the algorithm we will be using to evolve these neural networks, is unique in it's ability to add complexity to neural networks by probabilistically adding nodes and connections, allowing for the possibility for the functions they calculate to become incrementally more complex. It is often the case in other neuroevolution approaches to initialize a population with randomly varying network architectures at the outset, though the justification for doing so is a little unclear. CPPNs in a population here are initialized as neural networks with 5 input nodes and 1 output node (no hidden nodes), that way agents in the initial population only differ in the weights of their connections."
   ]
  }
 ],
 "metadata": {
  "kernelspec": {
   "display_name": "Python 2",
   "language": "python",
   "name": "python2"
  },
  "language_info": {
   "codemirror_mode": {
    "name": "ipython",
    "version": 2
   },
   "file_extension": ".py",
   "mimetype": "text/x-python",
   "name": "python",
   "nbconvert_exporter": "python",
   "pygments_lexer": "ipython2",
   "version": "2.7.12"
  }
 },
 "nbformat": 4,
 "nbformat_minor": 2
}
